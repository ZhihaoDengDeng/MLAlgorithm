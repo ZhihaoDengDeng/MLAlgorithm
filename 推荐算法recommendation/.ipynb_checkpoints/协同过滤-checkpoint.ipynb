{
 "cells": [
  {
   "cell_type": "markdown",
   "metadata": {},
   "source": [
    "# 协同过滤\n",
    "@author 邓志浩\n",
    "@date 2020.7.20"
   ]
  },
  {
   "cell_type": "markdown",
   "metadata": {},
   "source": [
    "\t“协同过滤”就是协同大家的反馈，评价和意见一起对海量的信息进行过滤，从中筛选出目标用户可能感兴趣的的信息的推荐过程。"
   ]
  },
  {
   "cell_type": "markdown",
   "metadata": {},
   "source": [
    "## UserCF （基于用户的协同过滤）\n",
    "1.某电商平台有p1 p2 p3 p4四个商品，有m个用户对商品的历史评价数据。\n",
    "\n",
    "2.为便于计算将用户与商品之间的有向图转换成矩阵的形式（共现矩阵）。用户为行坐标，物品为列坐标。\n",
    "\n",
    "3.用户应考虑与自己兴趣相投的用户对某个商品的意见，来作为本推荐算法给出的推荐结果。\n",
    "\n",
    "4.找出与该目标用户相似的top n个用户，综合他们的意见给出推荐结果。"
   ]
  },
  {
   "cell_type": "markdown",
   "metadata": {},
   "source": [
    "||p1|p2|p3|p4|\n",
    "|:----:|:----:|:----:|:----:|:----:|\n",
    "|用户1|1|－1|1|1|\n",
    "|用户2|1|1|－1|－1|\n",
    "|...|||||\n",
    "|用户m|－1|－1|1|1|"
   ]
  },
  {
   "cell_type": "markdown",
   "metadata": {},
   "source": [
    "由算法例子可以看出，用户相似度计算和最终结果排序是算法的核心所在。\n",
    "## 用户相似度计算\n",
    "### 余弦相似度\n",
    "衡量用户向量i和用户向量j之间向量夹角的大小\n",
    "$$sim(i,j)=cos(i,j)=\\frac{i*j}{\\left \\| i \\right \\|*\\left \\| j \\right \\|}$$\n",
    "### 皮尔逊相关系数\n",
    "使用用户平均分对各独立评分进行修正，减少用户评分偏置的影响。\n",
    "\n",
    "理论上，任何合理的“向量相似度定义方式”都可以作为相似用户计算。"
   ]
  },
  {
   "cell_type": "markdown",
   "metadata": {},
   "source": [
    "## 最终结果排序\n",
    "\n",
    "利用用户相似度和相似用户的评价进行加权平均获得目标用户的评价预测。"
   ]
  },
  {
   "cell_type": "markdown",
   "metadata": {},
   "source": [
    "## UserCF的缺点\n",
    "用户的历史数据向量往往十分稀疏，尤其是只有几次购买记录的用户，要找到他的相似用户十分困难。\n",
    "\n",
    "现实场景中，用户数往往远大于物品书，维护一个用户相似度矩阵的存储开销十分巨大。用户的增长会导致用户相似矩阵的空间复杂度以n平方的速度快速增长。"
   ]
  },
  {
   "cell_type": "markdown",
   "metadata": {},
   "source": [
    "## ItemCF（基于物品的协同过滤）\n",
    "计算共现矩阵中两两物品的相似度得到物品的相似度矩阵，再找到用户历史的正反馈物品的相似物品进行下一步的排序和推荐。"
   ]
  },
  {
   "cell_type": "markdown",
   "metadata": {},
   "source": [
    "### ItemCF的算法流程\n",
    "1.基于历史数据，构建共现矩阵。（用户m行向量，物品n列向量。）\n",
    "\n",
    "2.计算两两列向量的相似度，构建n*n的物品相似度矩阵。\n",
    "\n",
    "3.获得历史用户行为数据中正反馈的列表。\n",
    "\n",
    "4.利用物品相似度矩阵，针对用户给出正反馈的物品，找出top k个物品，行程相似度集合。\n",
    "\n",
    "5.对相似物品集合中的物品，利用相似度分值进行排序，生成最终的推荐列表。"
   ]
  },
  {
   "cell_type": "markdown",
   "metadata": {},
   "source": [
    "## 协同过滤的天然缺陷\n",
    "推荐结果头部效应明显，处理稀疏能力弱。  \n",
    "eg:热门的商品具有很强的头部效应，容易跟大量商品产生相似性。而冷门的商品因为特征向量稀疏，很少与其他物品产生相似性，进而很少被推荐。"
   ]
  }
 ],
 "metadata": {
  "kernelspec": {
   "display_name": "Python 3",
   "language": "python",
   "name": "python3"
  },
  "language_info": {
   "codemirror_mode": {
    "name": "ipython",
    "version": 3
   },
   "file_extension": ".py",
   "mimetype": "text/x-python",
   "name": "python",
   "nbconvert_exporter": "python",
   "pygments_lexer": "ipython3",
   "version": "3.8.3"
  }
 },
 "nbformat": 4,
 "nbformat_minor": 4
}
