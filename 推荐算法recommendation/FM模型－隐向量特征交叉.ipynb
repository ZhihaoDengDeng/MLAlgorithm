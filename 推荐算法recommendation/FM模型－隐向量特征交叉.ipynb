{
 "cells": [
  {
   "cell_type": "markdown",
   "metadata": {},
   "source": [
    "# FM模型\n",
    "在POLY2模型的基础上，为了更好地实现特征的两两交叉，**为每个特征学习一个隐权重向量**。"
   ]
  },
  {
   "cell_type": "markdown",
   "metadata": {},
   "source": [
    "## 算法思路\n",
    "在做特征交叉时，用两个特征的隐向量权重的内积作为交叉特征的权重。本质上讲，该做法与矩阵分解学习的用户向量和物品向量是一样的，FM模型的隐权重向量可以看做是在矩阵分解的用户、物品向量的基础上**推广到所有特征上**。"
   ]
  },
  {
   "cell_type": "markdown",
   "metadata": {},
   "source": [
    "## FM模型数学形式\n",
    "$$FM(w,x)=\\sum_{j_{1}=1}^{n}\\sum_{j_{2}=j_{1}+1}^{n}(w_{j_{1}}\\cdot w_{j_{2}})x_{j_{1}} x_{j_{2}}$$"
   ]
  }
 ],
 "metadata": {
  "kernelspec": {
   "display_name": "Python 3",
   "language": "python",
   "name": "python3"
  },
  "language_info": {
   "codemirror_mode": {
    "name": "ipython",
    "version": 3
   },
   "file_extension": ".py",
   "mimetype": "text/x-python",
   "name": "python",
   "nbconvert_exporter": "python",
   "pygments_lexer": "ipython3",
   "version": "3.8.3"
  }
 },
 "nbformat": 4,
 "nbformat_minor": 4
}
