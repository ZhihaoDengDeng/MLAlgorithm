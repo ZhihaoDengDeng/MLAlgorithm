{
 "cells": [
  {
   "cell_type": "markdown",
   "metadata": {},
   "source": [
    "# FFM模型－引入了特征域这个概念\n",
    "\n"
   ]
  },
  {
   "cell_type": "markdown",
   "metadata": {},
   "source": [
    "## 算法思路\n",
    "FFM模型在FM的基础上，对于每一个特征，不仅仅求唯一一个隐向量，而是求该特征的**一组隐向量**。当特征$x_{j_{1}}$与$x_{j_{2}}$交叉时，$x_{j_{1}}$会从它的隐向量组内挑选出一个与$x_{j_{2}}$的域$f_{2}$相对应的$w_{j_{1},f_{2}}$。同理$x_{j_{2}}$也一样这样挑选。"
   ]
  },
  {
   "cell_type": "markdown",
   "metadata": {},
   "source": [
    "## 模型优缺点\n",
    "可以看出，加入了域的概念模型需要训练的参数多了n倍，整体复杂度为$kn^{2}$。但模型引入了更多有价值的信息。"
   ]
  }
 ],
 "metadata": {
  "kernelspec": {
   "display_name": "Python 3",
   "language": "python",
   "name": "python3"
  },
  "language_info": {
   "codemirror_mode": {
    "name": "ipython",
    "version": 3
   },
   "file_extension": ".py",
   "mimetype": "text/x-python",
   "name": "python",
   "nbconvert_exporter": "python",
   "pygments_lexer": "ipython3",
   "version": "3.8.3"
  }
 },
 "nbformat": 4,
 "nbformat_minor": 4
}
