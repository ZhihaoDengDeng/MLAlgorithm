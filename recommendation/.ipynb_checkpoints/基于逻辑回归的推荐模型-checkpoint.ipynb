{
 "cells": [
  {
   "cell_type": "markdown",
   "metadata": {},
   "source": [
    "# 逻辑回归推荐模型\n",
    "**协同过滤和矩阵分解仅仅考虑了用户和商品之间的行为，并没有考虑其他特征。** 逻辑回归模型综合了用户、物品和上下文的不同特征，将推荐问题转化为一个分类问题，通过预测正样本的概率对物品进行排序。正样本是指希望用户产生的“正反馈”行为，例如观看了某视频，点击了某商品等。  \n",
    "因此逻辑回归将推荐问题转化为一个点击率（\u000fCTR）预估问题。"
   ]
  },
  {
   "cell_type": "code",
   "execution_count": null,
   "metadata": {},
   "outputs": [],
   "source": []
  }
 ],
 "metadata": {
  "kernelspec": {
   "display_name": "Python 3",
   "language": "python",
   "name": "python3"
  },
  "language_info": {
   "codemirror_mode": {
    "name": "ipython",
    "version": 3
   },
   "file_extension": ".py",
   "mimetype": "text/x-python",
   "name": "python",
   "nbconvert_exporter": "python",
   "pygments_lexer": "ipython3",
   "version": "3.8.3"
  }
 },
 "nbformat": 4,
 "nbformat_minor": 4
}
