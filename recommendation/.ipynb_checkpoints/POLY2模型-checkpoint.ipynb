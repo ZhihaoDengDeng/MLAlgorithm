{
 "cells": [
  {
   "cell_type": "markdown",
   "metadata": {},
   "source": [
    "## POLY2模型\n",
    "该模型针对特征交叉的问题，暴力地遍历每一种特征的两两组合，为每一种组合训练一个权重出来，本质上还是一个线性模型，训练方法与逻辑回归无异。"
   ]
  },
  {
   "cell_type": "markdown",
   "metadata": {},
   "source": [
    "## POLY2模型数学形式如下\n",
    "$$  POLY2(\u000fw,x)=\\sum_{j_{1}=1}^{n} \\sum_{j_{2}=j_{1}+1}^{n} w_{^{h_{(j_{1},j_{2})}}}x_{j_{1}}x_{j_{2}}$$"
   ]
  },
  {
   "cell_type": "markdown",
   "metadata": {},
   "source": [
    "## POLY2的缺陷\n",
    "互联网中经常给非数值型的特征进行**one-hot编码** ，导致了特征向量十分稀疏，而两两特征进行交叉后的特征向量更加稀疏，导致了大部分交叉特征缺乏有效的数据进行训练，进而训练无法收敛。  \n",
    "此外，训练的参数也由n变成了n平方。"
   ]
  }
 ],
 "metadata": {
  "kernelspec": {
   "display_name": "Python 3",
   "language": "python",
   "name": "python3"
  },
  "language_info": {
   "codemirror_mode": {
    "name": "ipython",
    "version": 3
   },
   "file_extension": ".py",
   "mimetype": "text/x-python",
   "name": "python",
   "nbconvert_exporter": "python",
   "pygments_lexer": "ipython3",
   "version": "3.8.3"
  }
 },
 "nbformat": 4,
 "nbformat_minor": 4
}
