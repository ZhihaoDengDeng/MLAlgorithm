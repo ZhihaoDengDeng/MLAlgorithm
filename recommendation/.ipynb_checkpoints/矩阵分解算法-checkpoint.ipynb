{
 "cells": [
  {
   "cell_type": "markdown",
   "metadata": {},
   "source": [
    "# 矩阵分解算法\n",
    "矩阵分解在协同过滤的基础上（共现矩阵），针对协同过滤处理稀疏矩阵能力弱、头部效应明显的缺点，提出<mark>隐向量<mark>的概念。"
   ]
  },
  {
   "cell_type": "markdown",
   "metadata": {},
   "source": [
    "## 算法原理\n",
    "分解矩阵算法希望为每一个用户、物品生成一个隐向量，将这些隐向量投影到向量空间上，距离相近的用户、物品表明特点兴趣相似，在推荐过程中，应该把距离相近的物品推荐给用户。\n",
    "分解得到用户矩阵U和物品矩阵V后，用户u对物品i的预评分是:\n",
    "$$r_{ui}=q_{i}^{T}p_{u}$$\n",
    "$q_{i}$是物品i在物品矩阵v中对应的列向量，$p_{u}$是用户u在用户矩阵U中对应的行向量。\n",
    "## 核心问题：隐向量如何生成?\n",
    "用户和物品的隐向量通过分解协同过滤中的共现矩阵生成（矩阵分解名字的由来）。\n",
    "矩阵分解将m*n的共现矩阵分解成m*k的用户矩阵和k*n的物品矩阵相乘的形式。m是用户数，n是物品数，k为隐向量维度。\n",
    "\n",
    "**k的大小决定了隐向量表达能力的强弱，k越大，隐向量包含信息越多，泛化能力越弱，k越小，隐向量包含信息越少，泛化能力有所增强。**"
   ]
  },
  {
   "cell_type": "markdown",
   "metadata": {},
   "source": [
    "## 矩阵分解的求解（梯度下降法）\n",
    "目标函数\n",
    "$$min\\sum_{(u,i\\epsilon k)} (r_{u,i}-q_{i}^{T}p_{u})^{2}$$\n",
    "\n",
    "加入L2正则化后\n",
    "\n",
    "$$min\\sum_{(u,i\\epsilon k)} (r_{u,i}-q_{i}^{T}p_{u})^{2}+\\lambda (\\left \\| q_{i} \\right \\|+\\left \\| p_{u} \\right \\|)^{2}$$\n",
    "对目标函数求偏导，取得梯度下降的方向和幅度\n",
    "\n",
    "对q求偏导：\n",
    "$$2(r_{ui}-q_{i}^{T}p_{u})p_{u}-2\\lambda q_{i}$$\n",
    "\n",
    "对p求偏导：\n",
    "$$2(r_{ui}-q_{i}^{T}p_{u})q_{i}-2\\lambda p_{u}$$\n",
    "利用第二部得到的求导结果，沿梯度的反方向更新参数：\n",
    "$$q_{i}\\leftarrow q_{i}-\\gamma ((r_{ui}-q_{i}^{T}p_{u})p_{u}-\\lambda q_{i})$$\n",
    "$$p_{u}\\leftarrow p_{u}-\\gamma ((r_{ui}-q_{i}^{T}p_{u})q_{i}-\\lambda p_{u})$$\n",
    "其中，$\\lambda $为学习率。  \n",
    "当迭代次数超过上限或者损失值低于设定的参数，结束训练，否则继续迭代。"
   ]
  },
  {
   "cell_type": "markdown",
   "metadata": {},
   "source": [
    "## 用户和物品打分的**偏差**\n",
    "由于不同用户之间的打分标准不同，因此为了消除这种不同用户造成的偏差，常用做法是在矩阵分解事加入用户和物品的偏差向量。\n",
    "$$r_{ui}=\\mu +b_{i}+b_{u}+q_{i}^{T}p_{u}$$\n",
    "其中，$\\mu$是全局偏差常数，$b_{i}$是用户偏差系数，$b_{u}$是物品偏差系数。  \n",
    "相应地，梯度下降算法求解的矩阵分解的目标函数也要相应有所变化。"
   ]
  },
  {
   "cell_type": "markdown",
   "metadata": {},
   "source": [
    "## 矩阵分解的优点和局限性\n",
    "矩阵分解得到了每个用户和商品的隐向量，使得任意用户和物品都可以得到相应的预估分，而隐向量的生成实际是拟合了全局的共现矩阵的信息，有更强的泛化能力。相比于协同过滤，矩阵分解具有更强的灵活性和扩展性，同时空间复杂度也由$n^{2}$变到$(n+m)*k$。  \n",
    "同时，矩阵分解缺乏用户、物品和上下文相关的特征，使得矩阵分解丧失了利用有效信息的机会，在缺乏用户历史行为的情况下，无法进行有效的推荐。"
   ]
  }
 ],
 "metadata": {
  "kernelspec": {
   "display_name": "Python 3",
   "language": "python",
   "name": "python3"
  },
  "language_info": {
   "codemirror_mode": {
    "name": "ipython",
    "version": 3
   },
   "file_extension": ".py",
   "mimetype": "text/x-python",
   "name": "python",
   "nbconvert_exporter": "python",
   "pygments_lexer": "ipython3",
   "version": "3.8.3"
  }
 },
 "nbformat": 4,
 "nbformat_minor": 4
}
