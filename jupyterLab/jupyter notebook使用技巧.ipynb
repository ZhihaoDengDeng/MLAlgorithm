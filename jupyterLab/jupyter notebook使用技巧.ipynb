{
 "cells": [
  {
   "cell_type": "markdown",
   "metadata": {},
   "source": [
    "# 测试标题\n",
    "## 二级标题\n",
    "### 三级标题"
   ]
  },
  {
   "cell_type": "markdown",
   "metadata": {},
   "source": [
    "## 换行\n",
    "末尾要加两个空格，不能单纯的enter"
   ]
  },
  {
   "cell_type": "markdown",
   "metadata": {},
   "source": [
    "## 写公式\n",
    "公式置于美元符号中间  \n",
    "加四个美元符号：公式单独一行居中  \n",
    "加两个美元符号：不换行，与其他文本贴合。\n",
    "http://latex.codecogs.com/eqneditor/editor.php"
   ]
  },
  {
   "cell_type": "markdown",
   "metadata": {},
   "source": [
    "$$f=\\sum_{a}^{b}(x_{a}+y_{b})$$"
   ]
  },
  {
   "cell_type": "markdown",
   "metadata": {},
   "source": [
    "## 魔法命令 用于在ipython中加强shell命令 %后加命令"
   ]
  },
  {
   "cell_type": "code",
   "execution_count": 1,
   "metadata": {},
   "outputs": [
    {
     "data": {
      "text/plain": [
       "'/storage/emulated/0/jupyter notebook/project'"
      ]
     },
     "execution_count": 1,
     "metadata": {},
     "output_type": "execute_result"
    }
   ],
   "source": [
    "%pwd"
   ]
  },
  {
   "cell_type": "code",
   "execution_count": 2,
   "metadata": {},
   "outputs": [],
   "source": [
    "# eg  \n",
    "%quickref"
   ]
  },
  {
   "cell_type": "markdown",
   "metadata": {},
   "source": [
    "## 导入外部Py文件\n",
    "%load **.py"
   ]
  },
  {
   "cell_type": "markdown",
   "metadata": {},
   "source": [
    "## 本地文件与链接\n",
    "![文本前面有个感叹号](路径.文件名)\n",
    "[百度](www.baidu.com)"
   ]
  },
  {
   "cell_type": "markdown",
   "metadata": {},
   "source": [
    "## 快捷键查询\n",
    "命令模式下 h"
   ]
  },
  {
   "cell_type": "markdown",
   "metadata": {},
   "source": [
    "## 字体\n",
    "*斜体*  \n",
    "**粗体**  \n",
    "***斜粗体***  \n",
    "~~加删除线~~  \n",
    "`测试`  \n",
    "<u>加下划线</u>  \n",
    "<font color = red>设置颜色</font>  \n",
    "<mark>高亮<mark>  \n",
    "<mark><font color=red size=4 face=雅黑>叠加字体的变化<font><mark>\n"
   ]
  },
  {
   "cell_type": "markdown",
   "metadata": {},
   "source": [
    "## 代码块\n",
    "```java\n",
    "print(\"hello world\")\n",
    "    for i in range(10):\n",
    "\t\tprint(i)\n",
    "```"
   ]
  },
  {
   "cell_type": "markdown",
   "metadata": {},
   "source": [
    "`测试`"
   ]
  },
  {
   "cell_type": "markdown",
   "metadata": {},
   "source": [
    "## 表格 \n",
    " 血型 |类别ID | 二进制编码 | 独热编码\n",
    " :---:| :---: | :--- | :---: \n",
    "A|1|0 0 1 | 1 0 0 0\n",
    "B|2|0 1 0 | 0 1 0 0\n",
    "C|3|0 1 1 | 0 0 1 1 \n",
    "O|4|1 0 0 | 0 0 0 1"
   ]
  },
  {
   "cell_type": "code",
   "execution_count": null,
   "metadata": {},
   "outputs": [],
   "source": []
  }
 ],
 "metadata": {
  "kernelspec": {
   "display_name": "默认的kernel",
   "language": "python",
   "name": "python3"
  },
  "language_info": {
   "codemirror_mode": {
    "name": "ipython",
    "version": 3
   },
   "file_extension": ".py",
   "mimetype": "text/x-python",
   "name": "python",
   "nbconvert_exporter": "python",
   "pygments_lexer": "ipython3",
   "version": "3.7.6"
  }
 },
 "nbformat": 4,
 "nbformat_minor": 4
}
