{
 "cells": [
  {
   "cell_type": "markdown",
   "metadata": {},
   "source": [
    "## 关于jupyter lab中Kernel设置与使用技巧"
   ]
  },
  {
   "cell_type": "markdown",
   "metadata": {},
   "source": [
    "## 遇到的问题\n",
    "重装安装的anaconda带上了之前设置的虚拟环境，右上角选择kernel栏目经常报错。"
   ]
  },
  {
   "cell_type": "markdown",
   "metadata": {},
   "source": [
    "    kernel指的是所使用的编辑器。\n",
    "    管理kernel有一个专门的jaso文件，目录在share\\jupyter\\kernels\\python3\\kernel.json。\n",
    "    针对于虚拟环境的kernel管理，在env目录下一样的目录下有一样的jaso文件。"
   ]
  },
  {
   "cell_type": "markdown",
   "metadata": {},
   "source": [
    "一个标准的jaso文件大概长这样：  \n",
    "{  \n",
    " \"argv\": [  \n",
    "  \"D:\\\\Anaconda3\\\\python.exe\",  \n",
    "  \"-m\",  \n",
    "  \"ipykernel_launcher\",  \n",
    "  \"-f\",  \n",
    "  \"{connection_file}\"  \n",
    " ],  \n",
    " \"display_name\": \"base-python3.7\",  \n",
    " \"language\": \"python\"  \n",
    "}"
   ]
  },
  {
   "cell_type": "markdown",
   "metadata": {},
   "source": [
    "## 但是其实有一个地方是真正控制kernel启动的\n",
    "地址：AppData\\Roaming\\jupyter\\kernels  \n",
    "是在用户名下的这个jaso文件控制。  \n",
    "而我还找到一个控制的地方是：C:\\ProgramData\\jupyter"
   ]
  },
  {
   "cell_type": "markdown",
   "metadata": {},
   "source": [
    "## 解决方案\n",
    "有以上理论，在相应目录下对增加删除相应的JASO文件即可"
   ]
  }
 ],
 "metadata": {
  "kernelspec": {
   "display_name": "默认的kernel",
   "language": "python",
   "name": "python3"
  },
  "language_info": {
   "codemirror_mode": {
    "name": "ipython",
    "version": 3
   },
   "file_extension": ".py",
   "mimetype": "text/x-python",
   "name": "python",
   "nbconvert_exporter": "python",
   "pygments_lexer": "ipython3",
   "version": "3.7.6"
  }
 },
 "nbformat": 4,
 "nbformat_minor": 4
}
