{
 "cells": [
  {
   "cell_type": "markdown",
   "metadata": {},
   "source": [
    "# 决策树"
   ]
  },
  {
   "cell_type": "markdown",
   "metadata": {},
   "source": [
    "## 决策树概述\n",
    "决策树是一种基本的分类与回归方法，可以认为是if-then规则的集合，也可以认为是定义在规则空间与类空间上的条件概率分布。  \n",
    "决策树学习时，利用训练数据、根据损失函数最小化的原则建立决策树模型。  \n",
    "通常决策树学习包括三个步骤：**特征选择**、**决策树**的生成和**决策树的修剪**。"
   ]
  },
  {
   "cell_type": "markdown",
   "metadata": {},
   "source": [
    "## 决策树训练方法\n",
    "决策树学习本质是从训练数据集中归纳出一组分类规则，与训练数据不相矛盾的决策树可能不止一个，也可能一个都没有。而我们需要一个与训练数据矛盾较小（拟合能力）的决策树，同时具有良好的泛化能力。  \n",
    "决策树学习的算法通常是一个递归地选择最佳特征，并根据该特征对训练数据进行划分，然后对各个子训练集求最佳特征。  \n",
    "基于上述决策树的学习规则，生成出来的决策树可能有很好对训练集的拟合能力，但未必有很好的分类能力，即可能出现**过拟合**现象。因此，在生成决策树的基础上，需要对其进行修剪，将树变得更简单，使其具有更好的泛化能力。"
   ]
  },
  {
   "cell_type": "markdown",
   "metadata": {},
   "source": [
    "## 特征选择\n",
    "特征选择的原则是**信息增益**和**信息增益比**。  \n",
    "进行特征选择时，如果一个特征具有更好的分类能力，或者以该特征来划分数据集能够使得各子集在当前条件下具有更好的分类，那么该特征应该是目前的最佳特征，**信息增益**能够很好地体现着一原则。  \n",
    "### 信息增益\n",
    "### 信息增益比"
   ]
  },
  {
   "cell_type": "markdown",
   "metadata": {},
   "source": [
    "## 生成决策树"
   ]
  },
  {
   "cell_type": "markdown",
   "metadata": {},
   "source": [
    "### 信息增益"
   ]
  },
  {
   "cell_type": "markdown",
   "metadata": {},
   "source": [
    "## 决策树剪枝\n"
   ]
  }
 ],
 "metadata": {
  "kernelspec": {
   "display_name": "默认的kernel",
   "language": "python",
   "name": "python3"
  },
  "language_info": {
   "codemirror_mode": {
    "name": "ipython",
    "version": 3
   },
   "file_extension": ".py",
   "mimetype": "text/x-python",
   "name": "python",
   "nbconvert_exporter": "python",
   "pygments_lexer": "ipython3",
   "version": "3.7.6"
  }
 },
 "nbformat": 4,
 "nbformat_minor": 4
}
