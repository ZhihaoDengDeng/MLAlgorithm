{
 "cells": [
  {
   "cell_type": "markdown",
   "metadata": {},
   "source": [
    "# 决策树"
   ]
  },
  {
   "cell_type": "markdown",
   "metadata": {},
   "source": [
    "<script src=\"https://cdn.bootcss.com/raphael/2.2.7/raphael.min.js\"></script>\n",
    "<script src=\"https://cdn.bootcss.com/flowchart/1.6.6/flowchart.min.js\"></script>\n",
    "<div id=\"diagram\"></div>\n",
    "<script>\n",
    "  //这里的cd变量用来储存flowchart的语句，把上述的flowchart语句复制到` `之间就好啦\n",
    "  var cd = `\n",
    "pre=>operation: Preference\n",
    "md=>operation: Markdown\n",
    "diag=>operation: 勾选Diagrams\n",
    "pre->md->diag\t\n",
    "  `\n",
    "  var diagram = flowchart.parse(cd);\n",
    "  diagram.drawSVG('diagram');\n",
    "</script>"
   ]
  },
  {
   "cell_type": "markdown",
   "metadata": {},
   "source": [
    "<script src=\"https://cdn.bootcss.com/raphael/2.2.7/raphael.min.js\"></script>\n",
    "<script src=\"https://cdn.bootcss.com/flowchart/1.6.6/flowchart.min.js\"></script>\n",
    "<div id=\"diagram\"></div>\n",
    "<script>\n",
    "  //这里的cd变量用来储存flowchart的语句，把上述的flowchart语句复制到` `之间就好啦\n",
    "  var cd = `\n",
    "pre=>operation: Preference\n",
    "md=>operation: Markdown\n",
    "diag=>operation: 勾选Diagrams\n",
    "pre->md->diag\t\n",
    "  `\n",
    "  var diagram = flowchart.parse(cd);\n",
    "  diagram.drawSVG('diagram');\n",
    "</script>"
   ]
  },
  {
   "cell_type": "markdown",
   "metadata": {},
   "source": [
    "## 决策树概述"
   ]
  },
  {
   "cell_type": "markdown",
   "metadata": {},
   "source": [
    "## 决策树训练方法"
   ]
  },
  {
   "cell_type": "markdown",
   "metadata": {},
   "source": [
    "## 特征选择"
   ]
  },
  {
   "cell_type": "markdown",
   "metadata": {},
   "source": [
    "## 生成决策树"
   ]
  },
  {
   "cell_type": "markdown",
   "metadata": {},
   "source": [
    "### 信息增益"
   ]
  },
  {
   "cell_type": "markdown",
   "metadata": {},
   "source": [
    "## 决策树剪枝"
   ]
  }
 ],
 "metadata": {
  "kernelspec": {
   "display_name": "Python 3",
   "language": "python",
   "name": "python3"
  },
  "language_info": {
   "codemirror_mode": {
    "name": "ipython",
    "version": 3
   },
   "file_extension": ".py",
   "mimetype": "text/x-python",
   "name": "python",
   "nbconvert_exporter": "python",
   "pygments_lexer": "ipython3",
   "version": "3.8.3"
  }
 },
 "nbformat": 4,
 "nbformat_minor": 4
}
