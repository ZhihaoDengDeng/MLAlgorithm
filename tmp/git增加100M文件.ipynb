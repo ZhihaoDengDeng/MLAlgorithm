{
 "cells": [
  {
   "cell_type": "markdown",
   "metadata": {},
   "source": [
    "# git\n",
    "## 遇到的问题\n",
    "git不能push超过100M的文件，如果一定要上传可找其他解决方案。  \n",
    "现在的问题是commit之后push，发现push不成功，原文件虽然在本地删除了但是commit的记录还保存着这个文件。  "
   ]
  },
  {
   "cell_type": "markdown",
   "metadata": {},
   "source": [
    "## 解决方案\n",
    "通过 **git log** 查看commit记录  \n",
    "通过 **git reset --soft commit id** 回退到之前的commit记录  \n",
    "再进行add commit push操作"
   ]
  }
 ],
 "metadata": {
  "kernelspec": {
   "display_name": "默认的kernel",
   "language": "python",
   "name": "python3"
  },
  "language_info": {
   "codemirror_mode": {
    "name": "ipython",
    "version": 3
   },
   "file_extension": ".py",
   "mimetype": "text/x-python",
   "name": "python",
   "nbconvert_exporter": "python",
   "pygments_lexer": "ipython3",
   "version": "3.7.6"
  }
 },
 "nbformat": 4,
 "nbformat_minor": 4
}
