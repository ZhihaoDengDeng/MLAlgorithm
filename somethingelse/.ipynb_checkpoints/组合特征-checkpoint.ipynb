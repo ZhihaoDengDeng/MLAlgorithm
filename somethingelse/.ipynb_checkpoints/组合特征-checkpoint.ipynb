{
 "cells": [
  {
   "cell_type": "markdown",
   "metadata": {},
   "source": [
    "### 组合特征\n",
    "#### what is **组合特征**\n",
    "为了提高对复杂关系的拟合能力，在特征工程中经常会把一阶离散特征两两组合，构成高阶组合特征。  \n",
    "以逻辑回归为例，假设数据的特征向量X=（$X_{1},X_{2},...X_{k}$，则有$$Y=sigmoid(\\sum_{i}^{} \\sum_{j}^{} W_{ij}<X_{i},X_{j}>)$$其中$<X_{i},X_{j}>$为$X_{i}$和$X_{j}$的组合特征。$X_{ij}$的维度等于$\\left | X_{i} \\right |\\cdot \\left | X_{j} \\right |$。  \n",
    "$\\left | X_{i} \\right |$和$\\left | X_{j} \\right |$分别表示第i个特征和第j个特征不同的取值个数。\n",
    "#### 如何有效地找到组合特征\n",
    "**基于决策树的特征组合寻找方法。**在生成了决策树的基础上，每一条从根节点到叶子节点的路径都可以看成是一种特征组合方式。"
   ]
  },
  {
   "cell_type": "markdown",
   "metadata": {},
   "source": [
    "#### 组合特征带来的问题\n",
    "假如特征i的数量为m，特征j的数量为n。那么需要学习的参数规模将达到m*n，实际情况下m和n的值可能非常大，达到千万量级以上，因此学习如此大规模的参数不现实。\n",
    "#### 解决方案\n",
    "**类似于推荐算法中的矩阵分解算法**，为每一个特征的每一个取值学习它的隐向量，假设该隐向量的维度为k（具体做法参考推荐算法中的矩阵分解算法），那么总共需要学习的参数为m*k+n*k。"
   ]
  },
  {
   "cell_type": "code",
   "execution_count": null,
   "metadata": {},
   "outputs": [],
   "source": []
  }
 ],
 "metadata": {
  "kernelspec": {
   "display_name": "默认的kernel",
   "language": "python",
   "name": "python3"
  },
  "language_info": {
   "codemirror_mode": {
    "name": "ipython",
    "version": 3
   },
   "file_extension": ".py",
   "mimetype": "text/x-python",
   "name": "python",
   "nbconvert_exporter": "python",
   "pygments_lexer": "ipython3",
   "version": "3.7.6"
  }
 },
 "nbformat": 4,
 "nbformat_minor": 4
}
